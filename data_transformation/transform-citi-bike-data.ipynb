{
 "cells": [
  {
   "cell_type": "markdown",
   "id": "e7fae3a4-de09-4e1e-87da-bfb34767eec5",
   "metadata": {},
   "source": [
    "## Dependancies"
   ]
  },
  {
   "cell_type": "code",
   "execution_count": 1,
   "id": "36ffa552-a038-46f2-828f-becb329e51a9",
   "metadata": {},
   "outputs": [],
   "source": [
    "import pandas as pd\n",
    "from functools import reduce"
   ]
  },
  {
   "cell_type": "markdown",
   "id": "0b4d0ecc-5a49-4ba3-bc12-280ad034b692",
   "metadata": {},
   "source": [
    "## Import CSV Files"
   ]
  },
  {
   "cell_type": "code",
   "execution_count": 2,
   "id": "f5783d99-ab08-4340-8141-255cda4dcaf3",
   "metadata": {},
   "outputs": [],
   "source": [
    "citi_bike_jan22 = pd.read_csv('original_datasets/JC-202201-citibike-tripdata.csv')\n",
    "citi_bike_feb22 = pd.read_csv('original_datasets/JC-202202-citibike-tripdata.csv')\n",
    "citi_bike_mar22 = pd.read_csv('original_datasets/JC-202203-citibike-tripdata.csv')\n",
    "citi_bike_apr22 = pd.read_csv('original_datasets/JC-202204-citibike-tripdata.csv')\n",
    "citi_bike_may22 = pd.read_csv('original_datasets/JC-202205-citibike-tripdata.csv')\n",
    "citi_bike_jun22 = pd.read_csv('original_datasets/JC-202206-citibike-tripdata.csv')"
   ]
  },
  {
   "cell_type": "markdown",
   "id": "946dbf98-47a1-4aef-bdda-9927948c6c82",
   "metadata": {
    "tags": []
   },
   "source": [
    "## Data Exploration\n",
    "\n",
    "- Preview Dataset Columns\n",
    "- Preview Data Type"
   ]
  },
  {
   "cell_type": "code",
   "execution_count": 3,
   "id": "f737cdcd-e34e-435f-bd6e-c7ca70e1f730",
   "metadata": {},
   "outputs": [
    {
     "data": {
      "text/html": [
       "<div>\n",
       "<style scoped>\n",
       "    .dataframe tbody tr th:only-of-type {\n",
       "        vertical-align: middle;\n",
       "    }\n",
       "\n",
       "    .dataframe tbody tr th {\n",
       "        vertical-align: top;\n",
       "    }\n",
       "\n",
       "    .dataframe thead th {\n",
       "        text-align: right;\n",
       "    }\n",
       "</style>\n",
       "<table border=\"1\" class=\"dataframe\">\n",
       "  <thead>\n",
       "    <tr style=\"text-align: right;\">\n",
       "      <th></th>\n",
       "      <th>ride_id</th>\n",
       "      <th>rideable_type</th>\n",
       "      <th>started_at</th>\n",
       "      <th>ended_at</th>\n",
       "      <th>start_station_name</th>\n",
       "      <th>start_station_id</th>\n",
       "      <th>end_station_name</th>\n",
       "      <th>end_station_id</th>\n",
       "      <th>start_lat</th>\n",
       "      <th>start_lng</th>\n",
       "      <th>end_lat</th>\n",
       "      <th>end_lng</th>\n",
       "      <th>member_casual</th>\n",
       "    </tr>\n",
       "  </thead>\n",
       "  <tbody>\n",
       "    <tr>\n",
       "      <th>0</th>\n",
       "      <td>CA5837152804D4B5</td>\n",
       "      <td>electric_bike</td>\n",
       "      <td>2022-01-26 18:50:39</td>\n",
       "      <td>2022-01-26 18:51:53</td>\n",
       "      <td>12 St &amp; Sinatra Dr N</td>\n",
       "      <td>HB201</td>\n",
       "      <td>12 St &amp; Sinatra Dr N</td>\n",
       "      <td>HB201</td>\n",
       "      <td>40.750604</td>\n",
       "      <td>-74.024020</td>\n",
       "      <td>40.750604</td>\n",
       "      <td>-74.024020</td>\n",
       "      <td>member</td>\n",
       "    </tr>\n",
       "    <tr>\n",
       "      <th>1</th>\n",
       "      <td>BA06A5E45B6601D2</td>\n",
       "      <td>classic_bike</td>\n",
       "      <td>2022-01-28 13:14:07</td>\n",
       "      <td>2022-01-28 13:20:23</td>\n",
       "      <td>Essex Light Rail</td>\n",
       "      <td>JC038</td>\n",
       "      <td>Essex Light Rail</td>\n",
       "      <td>JC038</td>\n",
       "      <td>40.712774</td>\n",
       "      <td>-74.036486</td>\n",
       "      <td>40.712774</td>\n",
       "      <td>-74.036486</td>\n",
       "      <td>member</td>\n",
       "    </tr>\n",
       "    <tr>\n",
       "      <th>2</th>\n",
       "      <td>7B6827D7B9508D93</td>\n",
       "      <td>classic_bike</td>\n",
       "      <td>2022-01-10 19:55:13</td>\n",
       "      <td>2022-01-10 20:00:37</td>\n",
       "      <td>Essex Light Rail</td>\n",
       "      <td>JC038</td>\n",
       "      <td>Essex Light Rail</td>\n",
       "      <td>JC038</td>\n",
       "      <td>40.712774</td>\n",
       "      <td>-74.036486</td>\n",
       "      <td>40.712774</td>\n",
       "      <td>-74.036486</td>\n",
       "      <td>member</td>\n",
       "    </tr>\n",
       "    <tr>\n",
       "      <th>3</th>\n",
       "      <td>6E5864EA6FCEC90D</td>\n",
       "      <td>electric_bike</td>\n",
       "      <td>2022-01-26 07:54:57</td>\n",
       "      <td>2022-01-26 07:55:22</td>\n",
       "      <td>12 St &amp; Sinatra Dr N</td>\n",
       "      <td>HB201</td>\n",
       "      <td>12 St &amp; Sinatra Dr N</td>\n",
       "      <td>HB201</td>\n",
       "      <td>40.750604</td>\n",
       "      <td>-74.024020</td>\n",
       "      <td>40.750604</td>\n",
       "      <td>-74.024020</td>\n",
       "      <td>member</td>\n",
       "    </tr>\n",
       "    <tr>\n",
       "      <th>4</th>\n",
       "      <td>E24954255BBDE32D</td>\n",
       "      <td>electric_bike</td>\n",
       "      <td>2022-01-13 18:44:46</td>\n",
       "      <td>2022-01-13 18:45:43</td>\n",
       "      <td>12 St &amp; Sinatra Dr N</td>\n",
       "      <td>HB201</td>\n",
       "      <td>12 St &amp; Sinatra Dr N</td>\n",
       "      <td>HB201</td>\n",
       "      <td>40.750604</td>\n",
       "      <td>-74.024020</td>\n",
       "      <td>40.750604</td>\n",
       "      <td>-74.024020</td>\n",
       "      <td>member</td>\n",
       "    </tr>\n",
       "  </tbody>\n",
       "</table>\n",
       "</div>"
      ],
      "text/plain": [
       "            ride_id  rideable_type           started_at             ended_at  \\\n",
       "0  CA5837152804D4B5  electric_bike  2022-01-26 18:50:39  2022-01-26 18:51:53   \n",
       "1  BA06A5E45B6601D2   classic_bike  2022-01-28 13:14:07  2022-01-28 13:20:23   \n",
       "2  7B6827D7B9508D93   classic_bike  2022-01-10 19:55:13  2022-01-10 20:00:37   \n",
       "3  6E5864EA6FCEC90D  electric_bike  2022-01-26 07:54:57  2022-01-26 07:55:22   \n",
       "4  E24954255BBDE32D  electric_bike  2022-01-13 18:44:46  2022-01-13 18:45:43   \n",
       "\n",
       "     start_station_name start_station_id      end_station_name end_station_id  \\\n",
       "0  12 St & Sinatra Dr N            HB201  12 St & Sinatra Dr N          HB201   \n",
       "1      Essex Light Rail            JC038      Essex Light Rail          JC038   \n",
       "2      Essex Light Rail            JC038      Essex Light Rail          JC038   \n",
       "3  12 St & Sinatra Dr N            HB201  12 St & Sinatra Dr N          HB201   \n",
       "4  12 St & Sinatra Dr N            HB201  12 St & Sinatra Dr N          HB201   \n",
       "\n",
       "   start_lat  start_lng    end_lat    end_lng member_casual  \n",
       "0  40.750604 -74.024020  40.750604 -74.024020        member  \n",
       "1  40.712774 -74.036486  40.712774 -74.036486        member  \n",
       "2  40.712774 -74.036486  40.712774 -74.036486        member  \n",
       "3  40.750604 -74.024020  40.750604 -74.024020        member  \n",
       "4  40.750604 -74.024020  40.750604 -74.024020        member  "
      ]
     },
     "execution_count": 3,
     "metadata": {},
     "output_type": "execute_result"
    }
   ],
   "source": [
    "citi_bike_jan22.head()"
   ]
  },
  {
   "cell_type": "code",
   "execution_count": 4,
   "id": "3318574c-0236-44bd-90a0-6897dfd553e6",
   "metadata": {},
   "outputs": [
    {
     "name": "stdout",
     "output_type": "stream",
     "text": [
      "<class 'pandas.core.frame.DataFrame'>\n",
      "RangeIndex: 26762 entries, 0 to 26761\n",
      "Data columns (total 13 columns):\n",
      " #   Column              Non-Null Count  Dtype  \n",
      "---  ------              --------------  -----  \n",
      " 0   ride_id             26762 non-null  object \n",
      " 1   rideable_type       26762 non-null  object \n",
      " 2   started_at          26762 non-null  object \n",
      " 3   ended_at            26762 non-null  object \n",
      " 4   start_station_name  26762 non-null  object \n",
      " 5   start_station_id    26762 non-null  object \n",
      " 6   end_station_name    26359 non-null  object \n",
      " 7   end_station_id      26359 non-null  object \n",
      " 8   start_lat           26762 non-null  float64\n",
      " 9   start_lng           26762 non-null  float64\n",
      " 10  end_lat             26583 non-null  float64\n",
      " 11  end_lng             26583 non-null  float64\n",
      " 12  member_casual       26762 non-null  object \n",
      "dtypes: float64(4), object(9)\n",
      "memory usage: 2.7+ MB\n"
     ]
    }
   ],
   "source": [
    "citi_bike_jan22.info()"
   ]
  },
  {
   "cell_type": "markdown",
   "id": "4f2e3252-578c-4fa6-8e80-3f4196536c97",
   "metadata": {},
   "source": [
    "## Data Cleansing \n",
    "\n",
    "- Merge Tables \n",
    "- View Data Types\n",
    "- Check Null Values\n",
    "- Drop Null Values"
   ]
  },
  {
   "cell_type": "code",
   "execution_count": 5,
   "id": "b8201a98-711c-4d52-8bef-94ecac0c4183",
   "metadata": {},
   "outputs": [],
   "source": [
    "citi_bike_data = [citi_bike_jan22, citi_bike_feb22, citi_bike_mar22, \n",
    "                  citi_bike_apr22, citi_bike_may22, citi_bike_jun22]\n",
    "\n",
    "citi_bike_merge = reduce(lambda left,right: pd.merge(left, right, how=\"outer\"), citi_bike_data)"
   ]
  },
  {
   "cell_type": "code",
   "execution_count": 6,
   "id": "cfa6c7b2-7dfc-47b1-85f9-441c38dfdfbc",
   "metadata": {},
   "outputs": [
    {
     "data": {
      "text/html": [
       "<div>\n",
       "<style scoped>\n",
       "    .dataframe tbody tr th:only-of-type {\n",
       "        vertical-align: middle;\n",
       "    }\n",
       "\n",
       "    .dataframe tbody tr th {\n",
       "        vertical-align: top;\n",
       "    }\n",
       "\n",
       "    .dataframe thead th {\n",
       "        text-align: right;\n",
       "    }\n",
       "</style>\n",
       "<table border=\"1\" class=\"dataframe\">\n",
       "  <thead>\n",
       "    <tr style=\"text-align: right;\">\n",
       "      <th></th>\n",
       "      <th>ride_id</th>\n",
       "      <th>rideable_type</th>\n",
       "      <th>started_at</th>\n",
       "      <th>ended_at</th>\n",
       "      <th>start_station_name</th>\n",
       "      <th>start_station_id</th>\n",
       "      <th>end_station_name</th>\n",
       "      <th>end_station_id</th>\n",
       "      <th>start_lat</th>\n",
       "      <th>start_lng</th>\n",
       "      <th>end_lat</th>\n",
       "      <th>end_lng</th>\n",
       "      <th>member_casual</th>\n",
       "    </tr>\n",
       "  </thead>\n",
       "  <tbody>\n",
       "    <tr>\n",
       "      <th>0</th>\n",
       "      <td>CA5837152804D4B5</td>\n",
       "      <td>electric_bike</td>\n",
       "      <td>2022-01-26 18:50:39</td>\n",
       "      <td>2022-01-26 18:51:53</td>\n",
       "      <td>12 St &amp; Sinatra Dr N</td>\n",
       "      <td>HB201</td>\n",
       "      <td>12 St &amp; Sinatra Dr N</td>\n",
       "      <td>HB201</td>\n",
       "      <td>40.750604</td>\n",
       "      <td>-74.024020</td>\n",
       "      <td>40.750604</td>\n",
       "      <td>-74.024020</td>\n",
       "      <td>member</td>\n",
       "    </tr>\n",
       "    <tr>\n",
       "      <th>1</th>\n",
       "      <td>BA06A5E45B6601D2</td>\n",
       "      <td>classic_bike</td>\n",
       "      <td>2022-01-28 13:14:07</td>\n",
       "      <td>2022-01-28 13:20:23</td>\n",
       "      <td>Essex Light Rail</td>\n",
       "      <td>JC038</td>\n",
       "      <td>Essex Light Rail</td>\n",
       "      <td>JC038</td>\n",
       "      <td>40.712774</td>\n",
       "      <td>-74.036486</td>\n",
       "      <td>40.712774</td>\n",
       "      <td>-74.036486</td>\n",
       "      <td>member</td>\n",
       "    </tr>\n",
       "    <tr>\n",
       "      <th>2</th>\n",
       "      <td>7B6827D7B9508D93</td>\n",
       "      <td>classic_bike</td>\n",
       "      <td>2022-01-10 19:55:13</td>\n",
       "      <td>2022-01-10 20:00:37</td>\n",
       "      <td>Essex Light Rail</td>\n",
       "      <td>JC038</td>\n",
       "      <td>Essex Light Rail</td>\n",
       "      <td>JC038</td>\n",
       "      <td>40.712774</td>\n",
       "      <td>-74.036486</td>\n",
       "      <td>40.712774</td>\n",
       "      <td>-74.036486</td>\n",
       "      <td>member</td>\n",
       "    </tr>\n",
       "    <tr>\n",
       "      <th>3</th>\n",
       "      <td>6E5864EA6FCEC90D</td>\n",
       "      <td>electric_bike</td>\n",
       "      <td>2022-01-26 07:54:57</td>\n",
       "      <td>2022-01-26 07:55:22</td>\n",
       "      <td>12 St &amp; Sinatra Dr N</td>\n",
       "      <td>HB201</td>\n",
       "      <td>12 St &amp; Sinatra Dr N</td>\n",
       "      <td>HB201</td>\n",
       "      <td>40.750604</td>\n",
       "      <td>-74.024020</td>\n",
       "      <td>40.750604</td>\n",
       "      <td>-74.024020</td>\n",
       "      <td>member</td>\n",
       "    </tr>\n",
       "    <tr>\n",
       "      <th>4</th>\n",
       "      <td>E24954255BBDE32D</td>\n",
       "      <td>electric_bike</td>\n",
       "      <td>2022-01-13 18:44:46</td>\n",
       "      <td>2022-01-13 18:45:43</td>\n",
       "      <td>12 St &amp; Sinatra Dr N</td>\n",
       "      <td>HB201</td>\n",
       "      <td>12 St &amp; Sinatra Dr N</td>\n",
       "      <td>HB201</td>\n",
       "      <td>40.750604</td>\n",
       "      <td>-74.024020</td>\n",
       "      <td>40.750604</td>\n",
       "      <td>-74.024020</td>\n",
       "      <td>member</td>\n",
       "    </tr>\n",
       "  </tbody>\n",
       "</table>\n",
       "</div>"
      ],
      "text/plain": [
       "            ride_id  rideable_type           started_at             ended_at  \\\n",
       "0  CA5837152804D4B5  electric_bike  2022-01-26 18:50:39  2022-01-26 18:51:53   \n",
       "1  BA06A5E45B6601D2   classic_bike  2022-01-28 13:14:07  2022-01-28 13:20:23   \n",
       "2  7B6827D7B9508D93   classic_bike  2022-01-10 19:55:13  2022-01-10 20:00:37   \n",
       "3  6E5864EA6FCEC90D  electric_bike  2022-01-26 07:54:57  2022-01-26 07:55:22   \n",
       "4  E24954255BBDE32D  electric_bike  2022-01-13 18:44:46  2022-01-13 18:45:43   \n",
       "\n",
       "     start_station_name start_station_id      end_station_name end_station_id  \\\n",
       "0  12 St & Sinatra Dr N            HB201  12 St & Sinatra Dr N          HB201   \n",
       "1      Essex Light Rail            JC038      Essex Light Rail          JC038   \n",
       "2      Essex Light Rail            JC038      Essex Light Rail          JC038   \n",
       "3  12 St & Sinatra Dr N            HB201  12 St & Sinatra Dr N          HB201   \n",
       "4  12 St & Sinatra Dr N            HB201  12 St & Sinatra Dr N          HB201   \n",
       "\n",
       "   start_lat  start_lng    end_lat    end_lng member_casual  \n",
       "0  40.750604 -74.024020  40.750604 -74.024020        member  \n",
       "1  40.712774 -74.036486  40.712774 -74.036486        member  \n",
       "2  40.712774 -74.036486  40.712774 -74.036486        member  \n",
       "3  40.750604 -74.024020  40.750604 -74.024020        member  \n",
       "4  40.750604 -74.024020  40.750604 -74.024020        member  "
      ]
     },
     "execution_count": 6,
     "metadata": {},
     "output_type": "execute_result"
    }
   ],
   "source": [
    "citi_bike_merge.head()"
   ]
  },
  {
   "cell_type": "code",
   "execution_count": 7,
   "id": "6794eb14-3d92-4e60-83cd-75c0294aec9d",
   "metadata": {},
   "outputs": [
    {
     "name": "stdout",
     "output_type": "stream",
     "text": [
      "<class 'pandas.core.frame.DataFrame'>\n",
      "Int64Index: 356653 entries, 0 to 356652\n",
      "Data columns (total 13 columns):\n",
      " #   Column              Non-Null Count   Dtype  \n",
      "---  ------              --------------   -----  \n",
      " 0   ride_id             356653 non-null  object \n",
      " 1   rideable_type       356653 non-null  object \n",
      " 2   started_at          356653 non-null  object \n",
      " 3   ended_at            356653 non-null  object \n",
      " 4   start_station_name  356653 non-null  object \n",
      " 5   start_station_id    356653 non-null  object \n",
      " 6   end_station_name    355422 non-null  object \n",
      " 7   end_station_id      355422 non-null  object \n",
      " 8   start_lat           356653 non-null  float64\n",
      " 9   start_lng           356653 non-null  float64\n",
      " 10  end_lat             355730 non-null  float64\n",
      " 11  end_lng             355730 non-null  float64\n",
      " 12  member_casual       356653 non-null  object \n",
      "dtypes: float64(4), object(9)\n",
      "memory usage: 38.1+ MB\n"
     ]
    }
   ],
   "source": [
    "citi_bike_merge.info()"
   ]
  },
  {
   "cell_type": "code",
   "execution_count": 8,
   "id": "489f18c7-0671-4bfd-9c43-eda496468944",
   "metadata": {},
   "outputs": [
    {
     "data": {
      "text/plain": [
       "(356653, 13)"
      ]
     },
     "execution_count": 8,
     "metadata": {},
     "output_type": "execute_result"
    }
   ],
   "source": [
    "citi_bike_merge.shape"
   ]
  },
  {
   "cell_type": "code",
   "execution_count": 9,
   "id": "2fd11da3-2509-49c5-ae15-28a6360f70f6",
   "metadata": {},
   "outputs": [
    {
     "data": {
      "text/plain": [
       "ride_id                  0\n",
       "rideable_type            0\n",
       "started_at               0\n",
       "ended_at                 0\n",
       "start_station_name       0\n",
       "start_station_id         0\n",
       "end_station_name      1231\n",
       "end_station_id        1231\n",
       "start_lat                0\n",
       "start_lng                0\n",
       "end_lat                923\n",
       "end_lng                923\n",
       "member_casual            0\n",
       "dtype: int64"
      ]
     },
     "execution_count": 9,
     "metadata": {},
     "output_type": "execute_result"
    }
   ],
   "source": [
    "citi_bike_merge.isnull().sum()"
   ]
  },
  {
   "cell_type": "code",
   "execution_count": 10,
   "id": "ab4d287a-5efb-4e02-b05f-243c1375224d",
   "metadata": {},
   "outputs": [],
   "source": [
    "citi_bike_merge.dropna(inplace=True)"
   ]
  },
  {
   "cell_type": "code",
   "execution_count": 11,
   "id": "22bbb532-668a-4a7f-a002-6cf47ad9036e",
   "metadata": {},
   "outputs": [
    {
     "data": {
      "text/plain": [
       "ride_id               0\n",
       "rideable_type         0\n",
       "started_at            0\n",
       "ended_at              0\n",
       "start_station_name    0\n",
       "start_station_id      0\n",
       "end_station_name      0\n",
       "end_station_id        0\n",
       "start_lat             0\n",
       "start_lng             0\n",
       "end_lat               0\n",
       "end_lng               0\n",
       "member_casual         0\n",
       "dtype: int64"
      ]
     },
     "execution_count": 11,
     "metadata": {},
     "output_type": "execute_result"
    }
   ],
   "source": [
    "citi_bike_merge.isnull().sum()"
   ]
  },
  {
   "cell_type": "code",
   "execution_count": 12,
   "id": "ddd9cc0a-d7f7-4a77-8405-0937fcaff824",
   "metadata": {},
   "outputs": [
    {
     "name": "stdout",
     "output_type": "stream",
     "text": [
      "<class 'pandas.core.frame.DataFrame'>\n",
      "Int64Index: 355422 entries, 0 to 356652\n",
      "Data columns (total 13 columns):\n",
      " #   Column              Non-Null Count   Dtype  \n",
      "---  ------              --------------   -----  \n",
      " 0   ride_id             355422 non-null  object \n",
      " 1   rideable_type       355422 non-null  object \n",
      " 2   started_at          355422 non-null  object \n",
      " 3   ended_at            355422 non-null  object \n",
      " 4   start_station_name  355422 non-null  object \n",
      " 5   start_station_id    355422 non-null  object \n",
      " 6   end_station_name    355422 non-null  object \n",
      " 7   end_station_id      355422 non-null  object \n",
      " 8   start_lat           355422 non-null  float64\n",
      " 9   start_lng           355422 non-null  float64\n",
      " 10  end_lat             355422 non-null  float64\n",
      " 11  end_lng             355422 non-null  float64\n",
      " 12  member_casual       355422 non-null  object \n",
      "dtypes: float64(4), object(9)\n",
      "memory usage: 38.0+ MB\n"
     ]
    }
   ],
   "source": [
    "citi_bike_merge.info()"
   ]
  },
  {
   "cell_type": "markdown",
   "id": "0953ed0a-9981-466d-a37c-264345243842",
   "metadata": {},
   "source": [
    "## Save Clean Data Set"
   ]
  },
  {
   "cell_type": "code",
   "execution_count": 13,
   "id": "30805dbc-e7f0-4bf9-9f84-eb92f5d09bd3",
   "metadata": {},
   "outputs": [],
   "source": [
    "citi_bike_clean = citi_bike_merge"
   ]
  },
  {
   "cell_type": "code",
   "execution_count": 14,
   "id": "56789f58-fc02-4144-b063-bb6ad5134ed6",
   "metadata": {},
   "outputs": [],
   "source": [
    "citi_bike_clean.to_csv('citi_bike_data.csv')"
   ]
  }
 ],
 "metadata": {
  "kernelspec": {
   "display_name": "PythonData",
   "language": "python",
   "name": "pythondata"
  },
  "language_info": {
   "codemirror_mode": {
    "name": "ipython",
    "version": 3
   },
   "file_extension": ".py",
   "mimetype": "text/x-python",
   "name": "python",
   "nbconvert_exporter": "python",
   "pygments_lexer": "ipython3",
   "version": "3.7.13"
  }
 },
 "nbformat": 4,
 "nbformat_minor": 5
}
